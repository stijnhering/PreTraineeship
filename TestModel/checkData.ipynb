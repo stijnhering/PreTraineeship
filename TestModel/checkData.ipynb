{
 "cells": [
  {
   "cell_type": "markdown",
   "metadata": {},
   "source": [
    "#### Check De Data"
   ]
  },
  {
   "cell_type": "code",
   "execution_count": 1,
   "metadata": {},
   "outputs": [],
   "source": [
    "import os\n",
    "import warnings\n",
    "import sys\n",
    "\n",
    "import pandas as pd\n",
    "import numpy as np\n",
    "import dvc.api\n",
    "from sklearn.metrics import mean_squared_error, mean_absolute_error, r2_score\n",
    "from sklearn.model_selection import train_test_split\n",
    "from sklearn.linear_model import ElasticNet\n",
    "from urllib.parse import urlparse\n",
    "import mlflow\n",
    "import mlflow.sklearn\n",
    "\n",
    "import logging"
   ]
  },
  {
   "cell_type": "code",
   "execution_count": 15,
   "metadata": {},
   "outputs": [],
   "source": [
    "path=\"data\"\n",
    "repo=\"https://github.com/stijnhering/PreTraineeship\"\n",
    "version=\"<GIT COMMIT>\"\n",
    "remote=\"storage\""
   ]
  },
  {
   "cell_type": "code",
   "execution_count": 16,
   "metadata": {},
   "outputs": [
    {
     "name": "stderr",
     "output_type": "stream",
     "text": [
      "/home/smwhering/miniconda3/envs/dataeng/lib/python3.9/site-packages/oauth2client/_helpers.py:255: UserWarning: Cannot access /tmp/tmpiw0unpsxdvc-clone/.dvc/tmp/gdrive-user-credentials.json: No such file or directory\n",
      "  warnings.warn(_MISSING_FILE_MESSAGE.format(filename))\n"
     ]
    },
    {
     "name": "stdout",
     "output_type": "stream",
     "text": [
      "Go to the following link in your browser:\n",
      "\n",
      "    https://accounts.google.com/o/oauth2/auth?client_id=710796635688-iivsgbgsb6uv1fap6635dhvuei09o66c.apps.googleusercontent.com&redirect_uri=urn%3Aietf%3Awg%3Aoauth%3A2.0%3Aoob&scope=https%3A%2F%2Fwww.googleapis.com%2Fauth%2Fdrive+https%3A%2F%2Fwww.googleapis.com%2Fauth%2Fdrive.appdata&access_type=offline&response_type=code&approval_prompt=force\n",
      "\n",
      "Authentication successful.\n",
      "gdrive://1VkpP9Rx1BJqZb0Y70jS7IVnUhctIK3mk/f2/45602f8748bec696b1d9d9291989d0.dir\n"
     ]
    }
   ],
   "source": [
    "data_url = dvc.api.get_url(path=path, repo=repo)\n",
    "print(data_url)"
   ]
  },
  {
   "cell_type": "code",
   "execution_count": 19,
   "metadata": {},
   "outputs": [
    {
     "ename": "IsADirectoryError",
     "evalue": "'/tmp/tmpiw0unpsxdvc-clone/data' is a directory",
     "output_type": "error",
     "traceback": [
      "\u001b[0;31m---------------------------------------------------------------------------\u001b[0m",
      "\u001b[0;31mIsADirectoryError\u001b[0m                         Traceback (most recent call last)",
      "File \u001b[0;32m~/miniconda3/envs/dataeng/lib/python3.9/site-packages/dvc/repo/__init__.py:499\u001b[0m, in \u001b[0;36mRepo.open_by_relpath\u001b[0;34m(self, path, remote, mode, encoding)\u001b[0m\n\u001b[1;32m    <a href='file:///home/smwhering/miniconda3/envs/dataeng/lib/python3.9/site-packages/dvc/repo/__init__.py?line=497'>498</a>\u001b[0m \u001b[39mtry\u001b[39;00m:\n\u001b[0;32m--> <a href='file:///home/smwhering/miniconda3/envs/dataeng/lib/python3.9/site-packages/dvc/repo/__init__.py?line=498'>499</a>\u001b[0m     \u001b[39mwith\u001b[39;00m fs\u001b[39m.\u001b[39;49mopen(\n\u001b[1;32m    <a href='file:///home/smwhering/miniconda3/envs/dataeng/lib/python3.9/site-packages/dvc/repo/__init__.py?line=499'>500</a>\u001b[0m         path, mode\u001b[39m=\u001b[39;49mmode, encoding\u001b[39m=\u001b[39;49mencoding, remote\u001b[39m=\u001b[39;49mremote\n\u001b[1;32m    <a href='file:///home/smwhering/miniconda3/envs/dataeng/lib/python3.9/site-packages/dvc/repo/__init__.py?line=500'>501</a>\u001b[0m     ) \u001b[39mas\u001b[39;00m fobj:\n\u001b[1;32m    <a href='file:///home/smwhering/miniconda3/envs/dataeng/lib/python3.9/site-packages/dvc/repo/__init__.py?line=501'>502</a>\u001b[0m         \u001b[39myield\u001b[39;00m fobj\n",
      "File \u001b[0;32m~/miniconda3/envs/dataeng/lib/python3.9/site-packages/dvc/fs/repo.py:233\u001b[0m, in \u001b[0;36mRepoFileSystem.open\u001b[0;34m(self, path, mode, encoding, **kwargs)\u001b[0m\n\u001b[1;32m    <a href='file:///home/smwhering/miniconda3/envs/dataeng/lib/python3.9/site-packages/dvc/fs/repo.py?line=230'>231</a>\u001b[0m         \u001b[39mraise\u001b[39;00m\n\u001b[0;32m--> <a href='file:///home/smwhering/miniconda3/envs/dataeng/lib/python3.9/site-packages/dvc/fs/repo.py?line=232'>233</a>\u001b[0m \u001b[39mreturn\u001b[39;00m dvc_fs\u001b[39m.\u001b[39;49mopen(dvc_path, mode\u001b[39m=\u001b[39;49mmode, encoding\u001b[39m=\u001b[39;49mencoding, \u001b[39m*\u001b[39;49m\u001b[39m*\u001b[39;49mkwargs)\n",
      "File \u001b[0;32m~/miniconda3/envs/dataeng/lib/python3.9/site-packages/dvc/fs/dvc.py:78\u001b[0m, in \u001b[0;36mDvcFileSystem.open\u001b[0;34m(self, path, mode, encoding, **kwargs)\u001b[0m\n\u001b[1;32m     <a href='file:///home/smwhering/miniconda3/envs/dataeng/lib/python3.9/site-packages/dvc/fs/dvc.py?line=74'>75</a>\u001b[0m \u001b[39mdef\u001b[39;00m \u001b[39mopen\u001b[39m(  \u001b[39m# type: ignore\u001b[39;00m\n\u001b[1;32m     <a href='file:///home/smwhering/miniconda3/envs/dataeng/lib/python3.9/site-packages/dvc/fs/dvc.py?line=75'>76</a>\u001b[0m     \u001b[39mself\u001b[39m, path: \u001b[39mstr\u001b[39m, mode\u001b[39m=\u001b[39m\u001b[39m\"\u001b[39m\u001b[39mr\u001b[39m\u001b[39m\"\u001b[39m, encoding\u001b[39m=\u001b[39m\u001b[39mNone\u001b[39;00m, \u001b[39m*\u001b[39m\u001b[39m*\u001b[39mkwargs\n\u001b[1;32m     <a href='file:///home/smwhering/miniconda3/envs/dataeng/lib/python3.9/site-packages/dvc/fs/dvc.py?line=76'>77</a>\u001b[0m ):  \u001b[39m# pylint: disable=arguments-renamed\u001b[39;00m\n\u001b[0;32m---> <a href='file:///home/smwhering/miniconda3/envs/dataeng/lib/python3.9/site-packages/dvc/fs/dvc.py?line=77'>78</a>\u001b[0m     fs, fspath \u001b[39m=\u001b[39m \u001b[39mself\u001b[39;49m\u001b[39m.\u001b[39;49m_get_fs_path(path, \u001b[39m*\u001b[39;49m\u001b[39m*\u001b[39;49mkwargs)\n\u001b[1;32m     <a href='file:///home/smwhering/miniconda3/envs/dataeng/lib/python3.9/site-packages/dvc/fs/dvc.py?line=78'>79</a>\u001b[0m     \u001b[39mreturn\u001b[39;00m fs\u001b[39m.\u001b[39mopen(fspath, mode\u001b[39m=\u001b[39mmode, encoding\u001b[39m=\u001b[39mencoding)\n",
      "File \u001b[0;32m~/miniconda3/envs/dataeng/lib/python3.9/site-packages/dvc/fs/dvc.py:57\u001b[0m, in \u001b[0;36mDvcFileSystem._get_fs_path\u001b[0;34m(self, path, remote)\u001b[0m\n\u001b[1;32m     <a href='file:///home/smwhering/miniconda3/envs/dataeng/lib/python3.9/site-packages/dvc/fs/dvc.py?line=55'>56</a>\u001b[0m \u001b[39mif\u001b[39;00m info[\u001b[39m\"\u001b[39m\u001b[39mtype\u001b[39m\u001b[39m\"\u001b[39m] \u001b[39m==\u001b[39m \u001b[39m\"\u001b[39m\u001b[39mdirectory\u001b[39m\u001b[39m\"\u001b[39m:\n\u001b[0;32m---> <a href='file:///home/smwhering/miniconda3/envs/dataeng/lib/python3.9/site-packages/dvc/fs/dvc.py?line=56'>57</a>\u001b[0m     \u001b[39mraise\u001b[39;00m \u001b[39mIsADirectoryError\u001b[39;00m\n\u001b[1;32m     <a href='file:///home/smwhering/miniconda3/envs/dataeng/lib/python3.9/site-packages/dvc/fs/dvc.py?line=58'>59</a>\u001b[0m value \u001b[39m=\u001b[39m info\u001b[39m.\u001b[39mget(\u001b[39m\"\u001b[39m\u001b[39mmd5\u001b[39m\u001b[39m\"\u001b[39m)\n",
      "\u001b[0;31mIsADirectoryError\u001b[0m: ",
      "\nThe above exception was the direct cause of the following exception:\n",
      "\u001b[0;31mIsADirectoryError\u001b[0m                         Traceback (most recent call last)",
      "\u001b[1;32m/mnt/c/Users/stijn/OneDrive/Bureaublad/PreTraineeship/TestModel/checkData.ipynb Cell 5'\u001b[0m in \u001b[0;36m<cell line: 1>\u001b[0;34m()\u001b[0m\n\u001b[0;32m----> <a href='vscode-notebook-cell://wsl%2Bubuntu-20.04/mnt/c/Users/stijn/OneDrive/Bureaublad/PreTraineeship/TestModel/checkData.ipynb#ch0000005vscode-remote?line=0'>1</a>\u001b[0m \u001b[39mwith\u001b[39;00m dvc\u001b[39m.\u001b[39mapi\u001b[39m.\u001b[39mopen(\n\u001b[1;32m      <a href='vscode-notebook-cell://wsl%2Bubuntu-20.04/mnt/c/Users/stijn/OneDrive/Bureaublad/PreTraineeship/TestModel/checkData.ipynb#ch0000005vscode-remote?line=1'>2</a>\u001b[0m         path,\n\u001b[1;32m      <a href='vscode-notebook-cell://wsl%2Bubuntu-20.04/mnt/c/Users/stijn/OneDrive/Bureaublad/PreTraineeship/TestModel/checkData.ipynb#ch0000005vscode-remote?line=2'>3</a>\u001b[0m         repo\u001b[39m=\u001b[39mrepo\n\u001b[1;32m      <a href='vscode-notebook-cell://wsl%2Bubuntu-20.04/mnt/c/Users/stijn/OneDrive/Bureaublad/PreTraineeship/TestModel/checkData.ipynb#ch0000005vscode-remote?line=3'>4</a>\u001b[0m         ) \u001b[39mas\u001b[39;00m fd:\n\u001b[1;32m      <a href='vscode-notebook-cell://wsl%2Bubuntu-20.04/mnt/c/Users/stijn/OneDrive/Bureaublad/PreTraineeship/TestModel/checkData.ipynb#ch0000005vscode-remote?line=4'>5</a>\u001b[0m     \u001b[39mprint\u001b[39m(fd)\n",
      "File \u001b[0;32m~/miniconda3/envs/dataeng/lib/python3.9/contextlib.py:119\u001b[0m, in \u001b[0;36m_GeneratorContextManager.__enter__\u001b[0;34m(self)\u001b[0m\n\u001b[1;32m    <a href='file:///home/smwhering/miniconda3/envs/dataeng/lib/python3.9/contextlib.py?line=116'>117</a>\u001b[0m \u001b[39mdel\u001b[39;00m \u001b[39mself\u001b[39m\u001b[39m.\u001b[39margs, \u001b[39mself\u001b[39m\u001b[39m.\u001b[39mkwds, \u001b[39mself\u001b[39m\u001b[39m.\u001b[39mfunc\n\u001b[1;32m    <a href='file:///home/smwhering/miniconda3/envs/dataeng/lib/python3.9/contextlib.py?line=117'>118</a>\u001b[0m \u001b[39mtry\u001b[39;00m:\n\u001b[0;32m--> <a href='file:///home/smwhering/miniconda3/envs/dataeng/lib/python3.9/contextlib.py?line=118'>119</a>\u001b[0m     \u001b[39mreturn\u001b[39;00m \u001b[39mnext\u001b[39;49m(\u001b[39mself\u001b[39;49m\u001b[39m.\u001b[39;49mgen)\n\u001b[1;32m    <a href='file:///home/smwhering/miniconda3/envs/dataeng/lib/python3.9/contextlib.py?line=119'>120</a>\u001b[0m \u001b[39mexcept\u001b[39;00m \u001b[39mStopIteration\u001b[39;00m:\n\u001b[1;32m    <a href='file:///home/smwhering/miniconda3/envs/dataeng/lib/python3.9/contextlib.py?line=120'>121</a>\u001b[0m     \u001b[39mraise\u001b[39;00m \u001b[39mRuntimeError\u001b[39;00m(\u001b[39m\"\u001b[39m\u001b[39mgenerator didn\u001b[39m\u001b[39m'\u001b[39m\u001b[39mt yield\u001b[39m\u001b[39m\"\u001b[39m) \u001b[39mfrom\u001b[39;00m \u001b[39mNone\u001b[39m\n",
      "File \u001b[0;32m~/miniconda3/envs/dataeng/lib/python3.9/site-packages/dvc/api.py:76\u001b[0m, in \u001b[0;36m_open\u001b[0;34m(path, repo, rev, remote, mode, encoding)\u001b[0m\n\u001b[1;32m     <a href='file:///home/smwhering/miniconda3/envs/dataeng/lib/python3.9/site-packages/dvc/api.py?line=73'>74</a>\u001b[0m \u001b[39mdef\u001b[39;00m \u001b[39m_open\u001b[39m(path, repo\u001b[39m=\u001b[39m\u001b[39mNone\u001b[39;00m, rev\u001b[39m=\u001b[39m\u001b[39mNone\u001b[39;00m, remote\u001b[39m=\u001b[39m\u001b[39mNone\u001b[39;00m, mode\u001b[39m=\u001b[39m\u001b[39m\"\u001b[39m\u001b[39mr\u001b[39m\u001b[39m\"\u001b[39m, encoding\u001b[39m=\u001b[39m\u001b[39mNone\u001b[39;00m):\n\u001b[1;32m     <a href='file:///home/smwhering/miniconda3/envs/dataeng/lib/python3.9/site-packages/dvc/api.py?line=74'>75</a>\u001b[0m     \u001b[39mwith\u001b[39;00m Repo\u001b[39m.\u001b[39mopen(repo, rev\u001b[39m=\u001b[39mrev, subrepos\u001b[39m=\u001b[39m\u001b[39mTrue\u001b[39;00m, uninitialized\u001b[39m=\u001b[39m\u001b[39mTrue\u001b[39;00m) \u001b[39mas\u001b[39;00m _repo:\n\u001b[0;32m---> <a href='file:///home/smwhering/miniconda3/envs/dataeng/lib/python3.9/site-packages/dvc/api.py?line=75'>76</a>\u001b[0m         \u001b[39mwith\u001b[39;00m _repo\u001b[39m.\u001b[39mopen_by_relpath(\n\u001b[1;32m     <a href='file:///home/smwhering/miniconda3/envs/dataeng/lib/python3.9/site-packages/dvc/api.py?line=76'>77</a>\u001b[0m             path, remote\u001b[39m=\u001b[39mremote, mode\u001b[39m=\u001b[39mmode, encoding\u001b[39m=\u001b[39mencoding\n\u001b[1;32m     <a href='file:///home/smwhering/miniconda3/envs/dataeng/lib/python3.9/site-packages/dvc/api.py?line=77'>78</a>\u001b[0m         ) \u001b[39mas\u001b[39;00m fd:\n\u001b[1;32m     <a href='file:///home/smwhering/miniconda3/envs/dataeng/lib/python3.9/site-packages/dvc/api.py?line=78'>79</a>\u001b[0m             \u001b[39myield\u001b[39;00m fd\n",
      "File \u001b[0;32m~/miniconda3/envs/dataeng/lib/python3.9/contextlib.py:119\u001b[0m, in \u001b[0;36m_GeneratorContextManager.__enter__\u001b[0;34m(self)\u001b[0m\n\u001b[1;32m    <a href='file:///home/smwhering/miniconda3/envs/dataeng/lib/python3.9/contextlib.py?line=116'>117</a>\u001b[0m \u001b[39mdel\u001b[39;00m \u001b[39mself\u001b[39m\u001b[39m.\u001b[39margs, \u001b[39mself\u001b[39m\u001b[39m.\u001b[39mkwds, \u001b[39mself\u001b[39m\u001b[39m.\u001b[39mfunc\n\u001b[1;32m    <a href='file:///home/smwhering/miniconda3/envs/dataeng/lib/python3.9/contextlib.py?line=117'>118</a>\u001b[0m \u001b[39mtry\u001b[39;00m:\n\u001b[0;32m--> <a href='file:///home/smwhering/miniconda3/envs/dataeng/lib/python3.9/contextlib.py?line=118'>119</a>\u001b[0m     \u001b[39mreturn\u001b[39;00m \u001b[39mnext\u001b[39;49m(\u001b[39mself\u001b[39;49m\u001b[39m.\u001b[39;49mgen)\n\u001b[1;32m    <a href='file:///home/smwhering/miniconda3/envs/dataeng/lib/python3.9/contextlib.py?line=119'>120</a>\u001b[0m \u001b[39mexcept\u001b[39;00m \u001b[39mStopIteration\u001b[39;00m:\n\u001b[1;32m    <a href='file:///home/smwhering/miniconda3/envs/dataeng/lib/python3.9/contextlib.py?line=120'>121</a>\u001b[0m     \u001b[39mraise\u001b[39;00m \u001b[39mRuntimeError\u001b[39;00m(\u001b[39m\"\u001b[39m\u001b[39mgenerator didn\u001b[39m\u001b[39m'\u001b[39m\u001b[39mt yield\u001b[39m\u001b[39m\"\u001b[39m) \u001b[39mfrom\u001b[39;00m \u001b[39mNone\u001b[39m\n",
      "File \u001b[0;32m~/miniconda3/envs/dataeng/lib/python3.9/site-packages/dvc/repo/__init__.py:506\u001b[0m, in \u001b[0;36mRepo.open_by_relpath\u001b[0;34m(self, path, remote, mode, encoding)\u001b[0m\n\u001b[1;32m    <a href='file:///home/smwhering/miniconda3/envs/dataeng/lib/python3.9/site-packages/dvc/repo/__init__.py?line=503'>504</a>\u001b[0m     \u001b[39mraise\u001b[39;00m FileMissingError(path) \u001b[39mfrom\u001b[39;00m \u001b[39mexc\u001b[39;00m\n\u001b[1;32m    <a href='file:///home/smwhering/miniconda3/envs/dataeng/lib/python3.9/site-packages/dvc/repo/__init__.py?line=504'>505</a>\u001b[0m \u001b[39mexcept\u001b[39;00m \u001b[39mIsADirectoryError\u001b[39;00m \u001b[39mas\u001b[39;00m exc:\n\u001b[0;32m--> <a href='file:///home/smwhering/miniconda3/envs/dataeng/lib/python3.9/site-packages/dvc/repo/__init__.py?line=505'>506</a>\u001b[0m     \u001b[39mraise\u001b[39;00m DvcIsADirectoryError(\u001b[39mf\u001b[39m\u001b[39m\"\u001b[39m\u001b[39m'\u001b[39m\u001b[39m{\u001b[39;00mpath\u001b[39m}\u001b[39;00m\u001b[39m'\u001b[39m\u001b[39m is a directory\u001b[39m\u001b[39m\"\u001b[39m) \u001b[39mfrom\u001b[39;00m \u001b[39mexc\u001b[39;00m\n",
      "\u001b[0;31mIsADirectoryError\u001b[0m: '/tmp/tmpiw0unpsxdvc-clone/data' is a directory"
     ]
    }
   ],
   "source": [
    "with dvc.api.open(\n",
    "        path,\n",
    "        repo=repo\n",
    "        ) as fd:\n",
    "    "
   ]
  },
  {
   "cell_type": "code",
   "execution_count": null,
   "metadata": {},
   "outputs": [],
   "source": []
  }
 ],
 "metadata": {
  "interpreter": {
   "hash": "d0ba60fa35aa7e3635918c64851f2338ccd563e9a9da39dc3c7c8f77168577a1"
  },
  "kernelspec": {
   "display_name": "Python 3.9.11 ('dataeng')",
   "language": "python",
   "name": "python3"
  },
  "language_info": {
   "codemirror_mode": {
    "name": "ipython",
    "version": 3
   },
   "file_extension": ".py",
   "mimetype": "text/x-python",
   "name": "python",
   "nbconvert_exporter": "python",
   "pygments_lexer": "ipython3",
   "version": "3.9.11"
  },
  "orig_nbformat": 4
 },
 "nbformat": 4,
 "nbformat_minor": 2
}
