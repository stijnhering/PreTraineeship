{
 "cells": [
  {
   "cell_type": "code",
   "execution_count": 1,
   "metadata": {},
   "outputs": [
    {
     "name": "stdout",
     "output_type": "stream",
     "text": [
      "  <row Id=\"4186249\" PostTypeId=\"1\" AcceptedAnswerId=\"4186674\" CreationDate=\"2010-11-15T16:06:29.293\" Score=\"2\" ViewCount=\"1246\" Body=\"&lt;p&gt;While going through one of the problems in &lt;a href=&quot;http://www.pythonchallenge.com/&quot; rel=&quot;nofollow&quot;&gt;Python Challenge&lt;/a&gt;, I a\n"
     ]
    }
   ],
   "source": [
    "import dvc.api\n",
    "\n",
    "with dvc.api.open(\n",
    "    'get-started/data.xml',\n",
    "    repo='https://github.com/iterative/dataset-registry') as fd:\n",
    "    data = fd.read()\n",
    "    fd.close()\n",
    "    \n"
   ]
  }
 ],
 "metadata": {
  "interpreter": {
   "hash": "31f2aee4e71d21fbe5cf8b01ff0e069b9275f58929596ceb00d14d90e3e16cd6"
  },
  "kernelspec": {
   "display_name": "Python 3.8.10 64-bit",
   "language": "python",
   "name": "python3"
  },
  "language_info": {
   "codemirror_mode": {
    "name": "ipython",
    "version": 3
   },
   "file_extension": ".py",
   "mimetype": "text/x-python",
   "name": "python",
   "nbconvert_exporter": "python",
   "pygments_lexer": "ipython3",
   "version": "3.8.12"
  },
  "orig_nbformat": 4
 },
 "nbformat": 4,
 "nbformat_minor": 2
}
