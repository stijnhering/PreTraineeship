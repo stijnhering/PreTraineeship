{
 "cells": [
  {
   "cell_type": "code",
   "execution_count": 9,
   "metadata": {},
   "outputs": [
    {
     "name": "stdout",
     "output_type": "stream",
     "text": [
      "gdrive://1TXZ3a7CFY3lU3MzSU1cLGBLkv0KPPOsm/b6/8ed59589e513a3d16a73e23070de26\n"
     ]
    }
   ],
   "source": [
    "import dvc.api\n",
    "import pandas as pd\n",
    "\n",
    "\n",
    "resource_url = dvc.api.get_url('data/beer_profile_and_ratings.csv',)\n",
    "print(resource_url)\n",
    "\n",
    "# VRAGEN WAAROM DIT ZO LANG DUURT?!\n",
    "# resource_url = dvc.api.get_url('beer_profile_and_ratings.csv',\n",
    "#                                repo=\"https://github.com/stijnhering/PreTraineeship\")\n",
    "# print(resource_url)"
   ]
  },
  {
   "cell_type": "code",
   "execution_count": 12,
   "metadata": {},
   "outputs": [
    {
     "name": "stdout",
     "output_type": "stream",
     "text": [
      "<_io.TextIOWrapper name='/mnt/g/My Drive/PreTraineeship/data/beer_profile_and_ratings.csv' mode='r' encoding='UTF-8'>\n"
     ]
    }
   ],
   "source": [
    "with dvc.api.open(\n",
    "        'data/beer_profile_and_ratings.csv') as fd:\n",
    "    print(fd)\n",
    "    # ... fd is a file descriptor that can be processed normally."
   ]
  },
  {
   "cell_type": "code",
   "execution_count": 14,
   "metadata": {},
   "outputs": [],
   "source": [
    "data = dvc.api.read(\n",
    "    'data/beer_profile_and_ratings.csv',\n",
    "    mode='rb')\n",
    "# print(data)"
   ]
  },
  {
   "cell_type": "code",
   "execution_count": 6,
   "metadata": {},
   "outputs": [],
   "source": [
    "# import great_expectations as ge\n",
    "\n",
    "# datasource_yaml = \"great_expectations/great_expectations.yml\"  # Replace this with the yaml string you want to check for errors.\n",
    "\n",
    "# context = ge.get_context()\n",
    "# context.test_yaml_config(datasource_yaml)\n"
   ]
  }
 ],
 "metadata": {
  "interpreter": {
   "hash": "31f2aee4e71d21fbe5cf8b01ff0e069b9275f58929596ceb00d14d90e3e16cd6"
  },
  "kernelspec": {
   "display_name": "Python 3.8.10 64-bit",
   "language": "python",
   "name": "python3"
  },
  "language_info": {
   "codemirror_mode": {
    "name": "ipython",
    "version": 3
   },
   "file_extension": ".py",
   "mimetype": "text/x-python",
   "name": "python",
   "nbconvert_exporter": "python",
   "pygments_lexer": "ipython3",
   "version": "3.8.12"
  },
  "orig_nbformat": 4
 },
 "nbformat": 4,
 "nbformat_minor": 2
}
